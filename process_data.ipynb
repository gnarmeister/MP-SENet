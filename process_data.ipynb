{
 "cells": [
  {
   "cell_type": "code",
   "execution_count": 1,
   "metadata": {},
   "outputs": [],
   "source": [
    "from tqdm import tqdm\n",
    "import os\n",
    "import numpy as np\n",
    "from pydub import AudioSegment\n",
    "\n",
    "\n",
    "noise_m4a_dir = \"flightlog_audio_converter/data/audio_synced/\"\n",
    "noise_wav_dir = \"flightlog_audio_converter/data/audio_synced_wav/\"\n",
    "clean_dir = \"VoiceBank+DEMAND/wavs_clean/\"\n",
    "output_dir = \"drone_dataset/wavs_noisy/\"\n",
    "\n",
    "# set numpy random seed\n",
    "np.random.seed(0)"
   ]
  },
  {
   "cell_type": "code",
   "execution_count": 3,
   "metadata": {},
   "outputs": [
    {
     "name": "stderr",
     "output_type": "stream",
     "text": [
      "100%|██████████| 15/15 [00:01<00:00, 13.48it/s]\n"
     ]
    }
   ],
   "source": [
    "# m4a to wav\n",
    "for m4a in tqdm(os.listdir(noise_m4a_dir)):\n",
    "    if m4a.endswith(\".m4a\"):\n",
    "        wav = m4a.replace(\".m4a\", \".wav\")\n",
    "        AudioSegment.from_file(noise_m4a_dir + m4a).export(noise_wav_dir + wav, format=\"wav\")"
   ]
  },
  {
   "cell_type": "code",
   "execution_count": 6,
   "metadata": {},
   "outputs": [],
   "source": [
    "def combine_wav(clean_file, noise_file):\n",
    "    clean = AudioSegment.from_file(clean_file)\n",
    "    noise = AudioSegment.from_file(noise_file)\n",
    "    noise = noise[:len(clean)]\n",
    "    # mix clean and noise\n",
    "    combined = clean.overlay(noise)\n",
    "    return combined"
   ]
  },
  {
   "cell_type": "code",
   "execution_count": null,
   "metadata": {},
   "outputs": [
    {
     "name": "stderr",
     "output_type": "stream",
     "text": [
      "100%|██████████| 12397/12397 [00:18<00:00, 653.56it/s]\n"
     ]
    }
   ],
   "source": [
    "for clean_file in tqdm(os.listdir(clean_dir)):\n",
    "    if not clean_file.endswith(\".wav\"):\n",
    "        continue\n",
    "\n",
    "    # choose noise randomly and combine\n",
    "    noise_file = np.random.choice(os.listdir(noise_wav_dir))\n",
    "    combined = combine_wav(clean_dir + clean_file, noise_wav_dir + noise_file)\n",
    "    combined.export(output_dir + clean_file, format=\"wav\")"
   ]
  }
 ],
 "metadata": {
  "kernelspec": {
   "display_name": "venv",
   "language": "python",
   "name": "python3"
  },
  "language_info": {
   "codemirror_mode": {
    "name": "ipython",
    "version": 3
   },
   "file_extension": ".py",
   "mimetype": "text/x-python",
   "name": "python",
   "nbconvert_exporter": "python",
   "pygments_lexer": "ipython3",
   "version": "3.11.8"
  }
 },
 "nbformat": 4,
 "nbformat_minor": 2
}
